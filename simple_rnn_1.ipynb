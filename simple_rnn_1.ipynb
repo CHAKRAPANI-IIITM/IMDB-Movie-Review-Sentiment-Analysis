{
 "cells": [
  {
   "cell_type": "code",
   "execution_count": 1,
   "metadata": {},
   "outputs": [],
   "source": [
    "import numpy as np\n",
    "import tensorflow as tf\n",
    "from tensorflow.keras.datasets import imdb\n",
    "from tensorflow.keras.preprocessing import sequence\n",
    "from tensorflow.keras.models import Sequential\n",
    "from tensorflow.keras.layers import Embedding,SimpleRNN,Dense"
   ]
  },
  {
   "cell_type": "code",
   "execution_count": 4,
   "metadata": {},
   "outputs": [
    {
     "name": "stdout",
     "output_type": "stream",
     "text": [
      "(25000,) (25000,)\n",
      "(25000,) (25000,)\n"
     ]
    }
   ],
   "source": [
    "max_features = 10000\n",
    "(X_train, y_train), (X_test, y_test) = imdb.load_data(num_words=max_features)\n",
    "print(X_train.shape,y_train.shape)\n",
    "print(X_test.shape,y_test.shape)"
   ]
  },
  {
   "cell_type": "code",
   "execution_count": 5,
   "metadata": {},
   "outputs": [],
   "source": [
    "sample_review = X_train[0]\n",
    "sample_label = y_train[0]"
   ]
  },
  {
   "cell_type": "code",
   "execution_count": 8,
   "metadata": {},
   "outputs": [],
   "source": [
    "word_index = imdb.get_word_index()\n",
    "reverse_word_index = {value: key for key,value in word_index.items()}"
   ]
  },
  {
   "cell_type": "code",
   "execution_count": 9,
   "metadata": {},
   "outputs": [
    {
     "data": {
      "text/plain": [
       "\"? this film was just brilliant casting location scenery story direction everyone's really suited the part they played and you could just imagine being there robert ? is an amazing actor and now the same being director ? father came from the same scottish island as myself so i loved the fact there was a real connection with this film the witty remarks throughout the film were great it was just brilliant so much that i bought the film as soon as it was released for ? and would recommend it to everyone to watch and the fly fishing was amazing really cried at the end it was so sad and you know what they say if you cry at a film it must have been good and this definitely was also ? to the two little boy's that played the ? of norman and paul they were just brilliant children are often left out of the ? list i think because the stars that play them all grown up are such a big profile for the whole film but these children are amazing and should be praised for what they have done don't you think the whole story was so lovely because it was true and was someone's life after all that was shared with us all\""
      ]
     },
     "execution_count": 9,
     "metadata": {},
     "output_type": "execute_result"
    }
   ],
   "source": [
    "decoded_review = ' '.join([reverse_word_index.get(i-3,'?') for i in sample_review])\n",
    "decoded_review"
   ]
  },
  {
   "cell_type": "code",
   "execution_count": 10,
   "metadata": {},
   "outputs": [],
   "source": [
    "from tensorflow.keras.preprocessing import sequence\n",
    "max_len = 500\n",
    "X_train = sequence.pad_sequences(X_train,maxlen=max_len)\n",
    "X_test = sequence.pad_sequences(X_test,maxlen=max_len)"
   ]
  },
  {
   "cell_type": "code",
   "execution_count": 14,
   "metadata": {},
   "outputs": [
    {
     "name": "stderr",
     "output_type": "stream",
     "text": [
      "/Users/chakrapani/udemy/simple_rnn_imdb/venv/lib/python3.9/site-packages/keras/src/layers/core/embedding.py:90: UserWarning: Argument `input_length` is deprecated. Just remove it.\n",
      "  warnings.warn(\n"
     ]
    }
   ],
   "source": [
    "model = Sequential()\n",
    "model.add(Embedding(max_features,128,input_length = max_len))\n",
    "model.add(SimpleRNN(128,activation='relu'))\n",
    "model.add(Dense(1,activation='sigmoid'))\n",
    "model.compile(optimizer='adam',loss='binary_crossentropy',metrics=['accuracy'])"
   ]
  },
  {
   "cell_type": "code",
   "execution_count": 12,
   "metadata": {},
   "outputs": [
    {
     "data": {
      "text/html": [
       "<pre style=\"white-space:pre;overflow-x:auto;line-height:normal;font-family:Menlo,'DejaVu Sans Mono',consolas,'Courier New',monospace\"><span style=\"font-weight: bold\">Model: \"sequential\"</span>\n",
       "</pre>\n"
      ],
      "text/plain": [
       "\u001b[1mModel: \"sequential\"\u001b[0m\n"
      ]
     },
     "metadata": {},
     "output_type": "display_data"
    },
    {
     "data": {
      "text/html": [
       "<pre style=\"white-space:pre;overflow-x:auto;line-height:normal;font-family:Menlo,'DejaVu Sans Mono',consolas,'Courier New',monospace\">┏━━━━━━━━━━━━━━━━━━━━━━━━━━━━━━━━━┳━━━━━━━━━━━━━━━━━━━━━━━━┳━━━━━━━━━━━━━━━┓\n",
       "┃<span style=\"font-weight: bold\"> Layer (type)                    </span>┃<span style=\"font-weight: bold\"> Output Shape           </span>┃<span style=\"font-weight: bold\">       Param # </span>┃\n",
       "┡━━━━━━━━━━━━━━━━━━━━━━━━━━━━━━━━━╇━━━━━━━━━━━━━━━━━━━━━━━━╇━━━━━━━━━━━━━━━┩\n",
       "│ embedding (<span style=\"color: #0087ff; text-decoration-color: #0087ff\">Embedding</span>)           │ ?                      │   <span style=\"color: #00af00; text-decoration-color: #00af00\">0</span> (unbuilt) │\n",
       "├─────────────────────────────────┼────────────────────────┼───────────────┤\n",
       "│ simple_rnn (<span style=\"color: #0087ff; text-decoration-color: #0087ff\">SimpleRNN</span>)          │ ?                      │   <span style=\"color: #00af00; text-decoration-color: #00af00\">0</span> (unbuilt) │\n",
       "├─────────────────────────────────┼────────────────────────┼───────────────┤\n",
       "│ dense (<span style=\"color: #0087ff; text-decoration-color: #0087ff\">Dense</span>)                   │ ?                      │   <span style=\"color: #00af00; text-decoration-color: #00af00\">0</span> (unbuilt) │\n",
       "└─────────────────────────────────┴────────────────────────┴───────────────┘\n",
       "</pre>\n"
      ],
      "text/plain": [
       "┏━━━━━━━━━━━━━━━━━━━━━━━━━━━━━━━━━┳━━━━━━━━━━━━━━━━━━━━━━━━┳━━━━━━━━━━━━━━━┓\n",
       "┃\u001b[1m \u001b[0m\u001b[1mLayer (type)                   \u001b[0m\u001b[1m \u001b[0m┃\u001b[1m \u001b[0m\u001b[1mOutput Shape          \u001b[0m\u001b[1m \u001b[0m┃\u001b[1m \u001b[0m\u001b[1m      Param #\u001b[0m\u001b[1m \u001b[0m┃\n",
       "┡━━━━━━━━━━━━━━━━━━━━━━━━━━━━━━━━━╇━━━━━━━━━━━━━━━━━━━━━━━━╇━━━━━━━━━━━━━━━┩\n",
       "│ embedding (\u001b[38;5;33mEmbedding\u001b[0m)           │ ?                      │   \u001b[38;5;34m0\u001b[0m (unbuilt) │\n",
       "├─────────────────────────────────┼────────────────────────┼───────────────┤\n",
       "│ simple_rnn (\u001b[38;5;33mSimpleRNN\u001b[0m)          │ ?                      │   \u001b[38;5;34m0\u001b[0m (unbuilt) │\n",
       "├─────────────────────────────────┼────────────────────────┼───────────────┤\n",
       "│ dense (\u001b[38;5;33mDense\u001b[0m)                   │ ?                      │   \u001b[38;5;34m0\u001b[0m (unbuilt) │\n",
       "└─────────────────────────────────┴────────────────────────┴───────────────┘\n"
      ]
     },
     "metadata": {},
     "output_type": "display_data"
    },
    {
     "data": {
      "text/html": [
       "<pre style=\"white-space:pre;overflow-x:auto;line-height:normal;font-family:Menlo,'DejaVu Sans Mono',consolas,'Courier New',monospace\"><span style=\"font-weight: bold\"> Total params: </span><span style=\"color: #00af00; text-decoration-color: #00af00\">0</span> (0.00 B)\n",
       "</pre>\n"
      ],
      "text/plain": [
       "\u001b[1m Total params: \u001b[0m\u001b[38;5;34m0\u001b[0m (0.00 B)\n"
      ]
     },
     "metadata": {},
     "output_type": "display_data"
    },
    {
     "data": {
      "text/html": [
       "<pre style=\"white-space:pre;overflow-x:auto;line-height:normal;font-family:Menlo,'DejaVu Sans Mono',consolas,'Courier New',monospace\"><span style=\"font-weight: bold\"> Trainable params: </span><span style=\"color: #00af00; text-decoration-color: #00af00\">0</span> (0.00 B)\n",
       "</pre>\n"
      ],
      "text/plain": [
       "\u001b[1m Trainable params: \u001b[0m\u001b[38;5;34m0\u001b[0m (0.00 B)\n"
      ]
     },
     "metadata": {},
     "output_type": "display_data"
    },
    {
     "data": {
      "text/html": [
       "<pre style=\"white-space:pre;overflow-x:auto;line-height:normal;font-family:Menlo,'DejaVu Sans Mono',consolas,'Courier New',monospace\"><span style=\"font-weight: bold\"> Non-trainable params: </span><span style=\"color: #00af00; text-decoration-color: #00af00\">0</span> (0.00 B)\n",
       "</pre>\n"
      ],
      "text/plain": [
       "\u001b[1m Non-trainable params: \u001b[0m\u001b[38;5;34m0\u001b[0m (0.00 B)\n"
      ]
     },
     "metadata": {},
     "output_type": "display_data"
    }
   ],
   "source": [
    "model.summary()"
   ]
  },
  {
   "cell_type": "code",
   "execution_count": 13,
   "metadata": {},
   "outputs": [
    {
     "data": {
      "text/plain": [
       "<keras.src.callbacks.early_stopping.EarlyStopping at 0x17cc73970>"
      ]
     },
     "execution_count": 13,
     "metadata": {},
     "output_type": "execute_result"
    }
   ],
   "source": [
    "from tensorflow.keras.callbacks import EarlyStopping\n",
    "earlystopping = EarlyStopping(monitor='val_loss',patience=5,restore_best_weights=True)\n",
    "earlystopping"
   ]
  },
  {
   "cell_type": "code",
   "execution_count": 15,
   "metadata": {},
   "outputs": [
    {
     "name": "stdout",
     "output_type": "stream",
     "text": [
      "Epoch 1/10\n",
      "\u001b[1m625/625\u001b[0m \u001b[32m━━━━━━━━━━━━━━━━━━━━\u001b[0m\u001b[37m\u001b[0m \u001b[1m49s\u001b[0m 78ms/step - accuracy: 0.6164 - loss: 1.4924 - val_accuracy: 0.6536 - val_loss: 0.6016\n",
      "Epoch 2/10\n",
      "\u001b[1m625/625\u001b[0m \u001b[32m━━━━━━━━━━━━━━━━━━━━\u001b[0m\u001b[37m\u001b[0m \u001b[1m53s\u001b[0m 85ms/step - accuracy: 0.7137 - loss: 529112992.0000 - val_accuracy: 0.6676 - val_loss: 0.5873\n",
      "Epoch 3/10\n",
      "\u001b[1m625/625\u001b[0m \u001b[32m━━━━━━━━━━━━━━━━━━━━\u001b[0m\u001b[37m\u001b[0m \u001b[1m55s\u001b[0m 88ms/step - accuracy: 0.7839 - loss: 124510.3438 - val_accuracy: 0.7746 - val_loss: 1.8094\n",
      "Epoch 4/10\n",
      "\u001b[1m625/625\u001b[0m \u001b[32m━━━━━━━━━━━━━━━━━━━━\u001b[0m\u001b[37m\u001b[0m \u001b[1m54s\u001b[0m 86ms/step - accuracy: 0.8350 - loss: 0.5336 - val_accuracy: 0.7284 - val_loss: 0.5288\n",
      "Epoch 5/10\n",
      "\u001b[1m625/625\u001b[0m \u001b[32m━━━━━━━━━━━━━━━━━━━━\u001b[0m\u001b[37m\u001b[0m \u001b[1m55s\u001b[0m 87ms/step - accuracy: 0.8400 - loss: 0.3834 - val_accuracy: 0.7510 - val_loss: 0.5176\n",
      "Epoch 6/10\n",
      "\u001b[1m625/625\u001b[0m \u001b[32m━━━━━━━━━━━━━━━━━━━━\u001b[0m\u001b[37m\u001b[0m \u001b[1m55s\u001b[0m 89ms/step - accuracy: 0.8761 - loss: 0.3127 - val_accuracy: 0.7754 - val_loss: 0.5047\n",
      "Epoch 7/10\n",
      "\u001b[1m625/625\u001b[0m \u001b[32m━━━━━━━━━━━━━━━━━━━━\u001b[0m\u001b[37m\u001b[0m \u001b[1m50s\u001b[0m 81ms/step - accuracy: 0.9082 - loss: 0.2305 - val_accuracy: 0.7946 - val_loss: 0.5079\n",
      "Epoch 8/10\n",
      "\u001b[1m625/625\u001b[0m \u001b[32m━━━━━━━━━━━━━━━━━━━━\u001b[0m\u001b[37m\u001b[0m \u001b[1m53s\u001b[0m 85ms/step - accuracy: 0.9364 - loss: 0.1731 - val_accuracy: 0.7488 - val_loss: 0.5586\n",
      "Epoch 9/10\n",
      "\u001b[1m625/625\u001b[0m \u001b[32m━━━━━━━━━━━━━━━━━━━━\u001b[0m\u001b[37m\u001b[0m \u001b[1m52s\u001b[0m 84ms/step - accuracy: 0.9330 - loss: 0.1740 - val_accuracy: 0.8094 - val_loss: 0.6352\n",
      "Epoch 10/10\n",
      "\u001b[1m625/625\u001b[0m \u001b[32m━━━━━━━━━━━━━━━━━━━━\u001b[0m\u001b[37m\u001b[0m \u001b[1m51s\u001b[0m 81ms/step - accuracy: 0.9592 - loss: 0.1190 - val_accuracy: 0.7980 - val_loss: 0.6625\n"
     ]
    }
   ],
   "source": [
    "history = model.fit(X_train,y_train,epochs=10,batch_size=32,validation_split=0.2,callbacks=[earlystopping])"
   ]
  },
  {
   "cell_type": "code",
   "execution_count": 16,
   "metadata": {},
   "outputs": [
    {
     "name": "stderr",
     "output_type": "stream",
     "text": [
      "WARNING:absl:You are saving your model as an HDF5 file via `model.save()` or `keras.saving.save_model(model)`. This file format is considered legacy. We recommend using instead the native Keras format, e.g. `model.save('my_model.keras')` or `keras.saving.save_model(model, 'my_model.keras')`. \n"
     ]
    }
   ],
   "source": [
    "model.save('simple_rnn_imdb.h5')"
   ]
  },
  {
   "cell_type": "code",
   "execution_count": 17,
   "metadata": {},
   "outputs": [],
   "source": [
    "from tensorflow.keras.models import load_model"
   ]
  },
  {
   "cell_type": "code",
   "execution_count": 18,
   "metadata": {},
   "outputs": [
    {
     "name": "stderr",
     "output_type": "stream",
     "text": [
      "WARNING:absl:Compiled the loaded model, but the compiled metrics have yet to be built. `model.compile_metrics` will be empty until you train or evaluate the model.\n"
     ]
    },
    {
     "data": {
      "text/html": [
       "<pre style=\"white-space:pre;overflow-x:auto;line-height:normal;font-family:Menlo,'DejaVu Sans Mono',consolas,'Courier New',monospace\"><span style=\"font-weight: bold\">Model: \"sequential_1\"</span>\n",
       "</pre>\n"
      ],
      "text/plain": [
       "\u001b[1mModel: \"sequential_1\"\u001b[0m\n"
      ]
     },
     "metadata": {},
     "output_type": "display_data"
    },
    {
     "data": {
      "text/html": [
       "<pre style=\"white-space:pre;overflow-x:auto;line-height:normal;font-family:Menlo,'DejaVu Sans Mono',consolas,'Courier New',monospace\">┏━━━━━━━━━━━━━━━━━━━━━━━━━━━━━━━━━┳━━━━━━━━━━━━━━━━━━━━━━━━┳━━━━━━━━━━━━━━━┓\n",
       "┃<span style=\"font-weight: bold\"> Layer (type)                    </span>┃<span style=\"font-weight: bold\"> Output Shape           </span>┃<span style=\"font-weight: bold\">       Param # </span>┃\n",
       "┡━━━━━━━━━━━━━━━━━━━━━━━━━━━━━━━━━╇━━━━━━━━━━━━━━━━━━━━━━━━╇━━━━━━━━━━━━━━━┩\n",
       "│ embedding_1 (<span style=\"color: #0087ff; text-decoration-color: #0087ff\">Embedding</span>)         │ (<span style=\"color: #00af00; text-decoration-color: #00af00\">32</span>, <span style=\"color: #00af00; text-decoration-color: #00af00\">500</span>, <span style=\"color: #00af00; text-decoration-color: #00af00\">128</span>)         │     <span style=\"color: #00af00; text-decoration-color: #00af00\">1,280,000</span> │\n",
       "├─────────────────────────────────┼────────────────────────┼───────────────┤\n",
       "│ simple_rnn_1 (<span style=\"color: #0087ff; text-decoration-color: #0087ff\">SimpleRNN</span>)        │ (<span style=\"color: #00af00; text-decoration-color: #00af00\">32</span>, <span style=\"color: #00af00; text-decoration-color: #00af00\">128</span>)              │        <span style=\"color: #00af00; text-decoration-color: #00af00\">32,896</span> │\n",
       "├─────────────────────────────────┼────────────────────────┼───────────────┤\n",
       "│ dense_1 (<span style=\"color: #0087ff; text-decoration-color: #0087ff\">Dense</span>)                 │ (<span style=\"color: #00af00; text-decoration-color: #00af00\">32</span>, <span style=\"color: #00af00; text-decoration-color: #00af00\">1</span>)                │           <span style=\"color: #00af00; text-decoration-color: #00af00\">129</span> │\n",
       "└─────────────────────────────────┴────────────────────────┴───────────────┘\n",
       "</pre>\n"
      ],
      "text/plain": [
       "┏━━━━━━━━━━━━━━━━━━━━━━━━━━━━━━━━━┳━━━━━━━━━━━━━━━━━━━━━━━━┳━━━━━━━━━━━━━━━┓\n",
       "┃\u001b[1m \u001b[0m\u001b[1mLayer (type)                   \u001b[0m\u001b[1m \u001b[0m┃\u001b[1m \u001b[0m\u001b[1mOutput Shape          \u001b[0m\u001b[1m \u001b[0m┃\u001b[1m \u001b[0m\u001b[1m      Param #\u001b[0m\u001b[1m \u001b[0m┃\n",
       "┡━━━━━━━━━━━━━━━━━━━━━━━━━━━━━━━━━╇━━━━━━━━━━━━━━━━━━━━━━━━╇━━━━━━━━━━━━━━━┩\n",
       "│ embedding_1 (\u001b[38;5;33mEmbedding\u001b[0m)         │ (\u001b[38;5;34m32\u001b[0m, \u001b[38;5;34m500\u001b[0m, \u001b[38;5;34m128\u001b[0m)         │     \u001b[38;5;34m1,280,000\u001b[0m │\n",
       "├─────────────────────────────────┼────────────────────────┼───────────────┤\n",
       "│ simple_rnn_1 (\u001b[38;5;33mSimpleRNN\u001b[0m)        │ (\u001b[38;5;34m32\u001b[0m, \u001b[38;5;34m128\u001b[0m)              │        \u001b[38;5;34m32,896\u001b[0m │\n",
       "├─────────────────────────────────┼────────────────────────┼───────────────┤\n",
       "│ dense_1 (\u001b[38;5;33mDense\u001b[0m)                 │ (\u001b[38;5;34m32\u001b[0m, \u001b[38;5;34m1\u001b[0m)                │           \u001b[38;5;34m129\u001b[0m │\n",
       "└─────────────────────────────────┴────────────────────────┴───────────────┘\n"
      ]
     },
     "metadata": {},
     "output_type": "display_data"
    },
    {
     "data": {
      "text/html": [
       "<pre style=\"white-space:pre;overflow-x:auto;line-height:normal;font-family:Menlo,'DejaVu Sans Mono',consolas,'Courier New',monospace\"><span style=\"font-weight: bold\"> Total params: </span><span style=\"color: #00af00; text-decoration-color: #00af00\">1,313,027</span> (5.01 MB)\n",
       "</pre>\n"
      ],
      "text/plain": [
       "\u001b[1m Total params: \u001b[0m\u001b[38;5;34m1,313,027\u001b[0m (5.01 MB)\n"
      ]
     },
     "metadata": {},
     "output_type": "display_data"
    },
    {
     "data": {
      "text/html": [
       "<pre style=\"white-space:pre;overflow-x:auto;line-height:normal;font-family:Menlo,'DejaVu Sans Mono',consolas,'Courier New',monospace\"><span style=\"font-weight: bold\"> Trainable params: </span><span style=\"color: #00af00; text-decoration-color: #00af00\">1,313,025</span> (5.01 MB)\n",
       "</pre>\n"
      ],
      "text/plain": [
       "\u001b[1m Trainable params: \u001b[0m\u001b[38;5;34m1,313,025\u001b[0m (5.01 MB)\n"
      ]
     },
     "metadata": {},
     "output_type": "display_data"
    },
    {
     "data": {
      "text/html": [
       "<pre style=\"white-space:pre;overflow-x:auto;line-height:normal;font-family:Menlo,'DejaVu Sans Mono',consolas,'Courier New',monospace\"><span style=\"font-weight: bold\"> Non-trainable params: </span><span style=\"color: #00af00; text-decoration-color: #00af00\">0</span> (0.00 B)\n",
       "</pre>\n"
      ],
      "text/plain": [
       "\u001b[1m Non-trainable params: \u001b[0m\u001b[38;5;34m0\u001b[0m (0.00 B)\n"
      ]
     },
     "metadata": {},
     "output_type": "display_data"
    },
    {
     "data": {
      "text/html": [
       "<pre style=\"white-space:pre;overflow-x:auto;line-height:normal;font-family:Menlo,'DejaVu Sans Mono',consolas,'Courier New',monospace\"><span style=\"font-weight: bold\"> Optimizer params: </span><span style=\"color: #00af00; text-decoration-color: #00af00\">2</span> (12.00 B)\n",
       "</pre>\n"
      ],
      "text/plain": [
       "\u001b[1m Optimizer params: \u001b[0m\u001b[38;5;34m2\u001b[0m (12.00 B)\n"
      ]
     },
     "metadata": {},
     "output_type": "display_data"
    }
   ],
   "source": [
    "model = load_model('simple_rnn_imdb.h5')\n",
    "model.summary()"
   ]
  },
  {
   "cell_type": "code",
   "execution_count": 20,
   "metadata": {},
   "outputs": [
    {
     "data": {
      "text/plain": [
       "[array([[-2.1745075e-01, -1.5362196e-01,  3.3328193e-01, ...,\n",
       "          1.6743389e+00,  1.6574878e+00, -1.4878515e+00],\n",
       "        [-3.1518754e-02, -6.6091301e-04, -4.4369131e-02, ...,\n",
       "          9.0500869e-02,  5.5173241e-02, -2.0290893e-02],\n",
       "        [-1.7106611e-01,  4.6925317e-02, -7.6051801e-02, ...,\n",
       "          5.9676800e-02,  9.3189240e-02, -1.5852508e-01],\n",
       "        ...,\n",
       "        [-5.0031804e-02, -4.0837236e-02,  3.4312338e-02, ...,\n",
       "         -2.7408024e-02, -7.7548786e-03, -4.9709439e-02],\n",
       "        [ 2.0629324e-01, -7.5400129e-02, -5.9530981e-02, ...,\n",
       "         -9.4190255e-02, -8.7300941e-02,  3.5157189e-02],\n",
       "        [-1.0748304e-03, -1.2170338e-01,  1.0002634e-01, ...,\n",
       "         -6.1705294e-03,  1.1204242e-01, -5.0834775e-02]], dtype=float32),\n",
       " array([[ 0.2266728 ,  0.14996098, -0.04228911, ...,  0.04624921,\n",
       "         -0.04448765, -0.05159854],\n",
       "        [ 0.09158055,  0.12621371, -0.11549006, ..., -0.19393772,\n",
       "          0.06655461,  0.03422294],\n",
       "        [ 0.07424158,  0.09436782, -0.10641605, ...,  0.07690397,\n",
       "          0.02253236,  0.02999566],\n",
       "        ...,\n",
       "        [-0.00790377,  0.13163927,  0.07145644, ..., -0.13482693,\n",
       "         -0.03066183, -0.14218298],\n",
       "        [ 0.13674176,  0.01939321, -0.04327111, ..., -0.09838716,\n",
       "          0.07553916, -0.00068529],\n",
       "        [ 0.21052217,  0.04825495,  0.17369182, ...,  0.00334655,\n",
       "         -0.20011838,  0.0378681 ]], dtype=float32),\n",
       " array([[ 1.44759305e-02, -7.28513077e-02,  7.62703344e-02, ...,\n",
       "          1.01930484e-01, -9.12721753e-02,  1.18082024e-01],\n",
       "        [-2.89491098e-03, -9.92258936e-02,  8.36442038e-02, ...,\n",
       "         -1.34303004e-01,  8.70468169e-02, -1.05606191e-01],\n",
       "        [-8.05257261e-02, -9.68069807e-02, -7.03961104e-02, ...,\n",
       "          1.58175994e-02, -1.26339331e-01, -2.50397194e-02],\n",
       "        ...,\n",
       "        [ 8.77764355e-03, -1.52168021e-01, -2.61268854e-01, ...,\n",
       "         -8.06332082e-02,  3.25677618e-02,  3.17209847e-02],\n",
       "        [ 2.14787759e-02, -2.25717306e-01,  1.72929780e-04, ...,\n",
       "          8.85046422e-02,  1.06644459e-01, -2.91583747e-01],\n",
       "        [-3.64797264e-02, -9.28183720e-02, -5.55950999e-02, ...,\n",
       "          1.31932214e-01, -3.30320443e-03, -1.74272656e-02]], dtype=float32),\n",
       " array([-0.06448331, -0.03121348,  0.01204553, -0.02916703, -0.02125827,\n",
       "         0.01229404, -0.02743026, -0.02017355,  0.00101746, -0.01093755,\n",
       "        -0.03019605,  0.02225283,  0.01169629, -0.05647637,  0.03651157,\n",
       "         0.00167927, -0.06394901, -0.0284129 , -0.06110212, -0.00940352,\n",
       "         0.01248362, -0.07129082,  0.01100524,  0.01820004, -0.00111002,\n",
       "         0.02225721, -0.01203564, -0.03264232, -0.04029337,  0.00399015,\n",
       "        -0.04836202, -0.04066853,  0.03432849,  0.00191119, -0.0324344 ,\n",
       "        -0.02471109, -0.06095176, -0.01695967, -0.02786016,  0.00495643,\n",
       "         0.00407418, -0.05019629, -0.06873477,  0.03666241, -0.00174006,\n",
       "         0.09776191,  0.00932072, -0.05168587, -0.00485937, -0.04649617,\n",
       "        -0.03036393, -0.00526743,  0.00012243,  0.0412227 ,  0.00069254,\n",
       "        -0.06188267,  0.0159866 ,  0.02030843, -0.03093573, -0.08027292,\n",
       "         0.00349422, -0.04798373, -0.0320837 ,  0.01391476, -0.06738258,\n",
       "         0.02793279, -0.04378827, -0.06029047, -0.04679101, -0.02862828,\n",
       "         0.01212489, -0.05800829, -0.03455126, -0.01865379, -0.0039906 ,\n",
       "        -0.03050091,  0.03374698,  0.0443393 , -0.00834726,  0.00022325,\n",
       "        -0.05481731, -0.01467593, -0.06261128, -0.00296504, -0.04593608,\n",
       "         0.09066158,  0.02174529, -0.06356275,  0.00086041,  0.02424999,\n",
       "         0.00327365, -0.04752694, -0.04887458,  0.01609935, -0.0228897 ,\n",
       "         0.00912859, -0.03461395,  0.00151383, -0.00326599, -0.0204386 ,\n",
       "        -0.03931393, -0.07760757, -0.01805203, -0.0387973 , -0.08407994,\n",
       "        -0.03338542, -0.00288671,  0.05686682, -0.01181454, -0.01417315,\n",
       "        -0.06607132,  0.01455573, -0.03127721, -0.00154943, -0.0312315 ,\n",
       "        -0.03877942, -0.03707264, -0.0606006 , -0.05238939, -0.01539784,\n",
       "         0.00691593,  0.0061642 ,  0.00501622,  0.02777638,  0.00114226,\n",
       "        -0.02130426,  0.00068401, -0.02287944], dtype=float32),\n",
       " array([[ 0.14006071],\n",
       "        [-0.02918587],\n",
       "        [-0.11213278],\n",
       "        [-0.07958582],\n",
       "        [ 0.16328833],\n",
       "        [ 0.07595277],\n",
       "        [ 0.02199322],\n",
       "        [ 0.11916344],\n",
       "        [ 0.08929139],\n",
       "        [-0.18486974],\n",
       "        [ 0.04045743],\n",
       "        [-0.03853417],\n",
       "        [-0.2864708 ],\n",
       "        [-0.27344534],\n",
       "        [ 0.09704243],\n",
       "        [-0.25276887],\n",
       "        [ 0.21934052],\n",
       "        [ 0.16754767],\n",
       "        [-0.20133136],\n",
       "        [ 0.2677661 ],\n",
       "        [ 0.15356515],\n",
       "        [-0.0275094 ],\n",
       "        [ 0.03804934],\n",
       "        [-0.2094939 ],\n",
       "        [-0.12096798],\n",
       "        [-1.185029  ],\n",
       "        [-0.0370881 ],\n",
       "        [ 0.12164743],\n",
       "        [ 0.21970461],\n",
       "        [-0.21286689],\n",
       "        [-0.08135588],\n",
       "        [ 0.03407751],\n",
       "        [-0.09149481],\n",
       "        [ 0.17821112],\n",
       "        [-0.19364125],\n",
       "        [-0.25713444],\n",
       "        [ 0.13869928],\n",
       "        [-0.26091897],\n",
       "        [ 0.15664446],\n",
       "        [-0.2647612 ],\n",
       "        [ 0.3604571 ],\n",
       "        [ 0.09714904],\n",
       "        [-0.0136034 ],\n",
       "        [ 0.10166555],\n",
       "        [-0.3048681 ],\n",
       "        [ 0.14099954],\n",
       "        [-0.21002707],\n",
       "        [ 0.20592871],\n",
       "        [-0.22406664],\n",
       "        [ 0.06105419],\n",
       "        [ 0.12360819],\n",
       "        [-0.22609885],\n",
       "        [-0.27964512],\n",
       "        [ 0.1892435 ],\n",
       "        [-0.1415587 ],\n",
       "        [ 0.04520966],\n",
       "        [ 0.10151454],\n",
       "        [ 0.00504586],\n",
       "        [-0.05782702],\n",
       "        [-0.1337777 ],\n",
       "        [-0.25434402],\n",
       "        [-0.10109688],\n",
       "        [ 0.1249165 ],\n",
       "        [-0.26985386],\n",
       "        [ 0.28221798],\n",
       "        [ 0.04423713],\n",
       "        [ 0.04811379],\n",
       "        [ 0.1544971 ],\n",
       "        [ 0.15486959],\n",
       "        [ 0.7210443 ],\n",
       "        [-0.11603745],\n",
       "        [ 0.11760282],\n",
       "        [-0.0841575 ],\n",
       "        [ 0.18709585],\n",
       "        [ 0.28750193],\n",
       "        [ 0.0779279 ],\n",
       "        [-0.05084988],\n",
       "        [ 0.24020764],\n",
       "        [-0.18880413],\n",
       "        [-0.24945745],\n",
       "        [ 0.06918163],\n",
       "        [-0.1764694 ],\n",
       "        [ 0.14629942],\n",
       "        [-0.0683001 ],\n",
       "        [-0.01562724],\n",
       "        [ 0.23056893],\n",
       "        [ 0.08533597],\n",
       "        [ 0.1696811 ],\n",
       "        [-0.08713467],\n",
       "        [-0.04490285],\n",
       "        [-0.14924623],\n",
       "        [-0.08984081],\n",
       "        [ 0.0087864 ],\n",
       "        [-0.13011669],\n",
       "        [-0.0744401 ],\n",
       "        [-0.02030581],\n",
       "        [ 0.11624003],\n",
       "        [-0.78148234],\n",
       "        [-0.05732347],\n",
       "        [ 0.03268   ],\n",
       "        [ 0.04907803],\n",
       "        [-0.1253243 ],\n",
       "        [ 0.17430109],\n",
       "        [-0.0554519 ],\n",
       "        [-0.26256457],\n",
       "        [-0.12870303],\n",
       "        [ 0.17117158],\n",
       "        [-0.00415896],\n",
       "        [ 0.33583894],\n",
       "        [ 0.07394965],\n",
       "        [-0.23155245],\n",
       "        [ 0.06034352],\n",
       "        [-0.04843691],\n",
       "        [ 0.11642676],\n",
       "        [-0.2691433 ],\n",
       "        [-0.16976573],\n",
       "        [ 0.13062373],\n",
       "        [ 0.02679518],\n",
       "        [ 0.08314249],\n",
       "        [-0.02435539],\n",
       "        [ 0.15049456],\n",
       "        [-0.06070553],\n",
       "        [-0.20251332],\n",
       "        [ 0.02883962],\n",
       "        [-0.10186973],\n",
       "        [ 0.21034004],\n",
       "        [ 0.18563205],\n",
       "        [ 0.26079896]], dtype=float32),\n",
       " array([0.65443367], dtype=float32)]"
      ]
     },
     "execution_count": 20,
     "metadata": {},
     "output_type": "execute_result"
    }
   ],
   "source": [
    "model.get_weights()"
   ]
  },
  {
   "cell_type": "code",
   "execution_count": 21,
   "metadata": {},
   "outputs": [],
   "source": [
    "# Step 2: Helper Functions\n",
    "# Function to decode reviews\n",
    "def decode_review(encoded_review):\n",
    "    return ' '.join([reverse_word_index.get(i - 3, '?') for i in encoded_review])\n",
    "\n",
    "# Function to preprocess user input\n",
    "def preprocess_text(text):\n",
    "    words = text.lower().split()\n",
    "    encoded_review = [word_index.get(word, 2) + 3 for word in words]\n",
    "    padded_review = sequence.pad_sequences([encoded_review], maxlen=500)\n",
    "    return padded_review"
   ]
  },
  {
   "cell_type": "code",
   "execution_count": 22,
   "metadata": {},
   "outputs": [],
   "source": [
    "### Prediction  function\n",
    "\n",
    "def predict_sentiment(review):\n",
    "    preprocessed_input=preprocess_text(review)\n",
    "\n",
    "    prediction=model.predict(preprocessed_input)\n",
    "\n",
    "    sentiment = 'Positive' if prediction[0][0] > 0.5 else 'Negative'\n",
    "    \n",
    "    return sentiment, prediction[0][0]"
   ]
  },
  {
   "cell_type": "code",
   "execution_count": 23,
   "metadata": {},
   "outputs": [
    {
     "name": "stdout",
     "output_type": "stream",
     "text": [
      "\u001b[1m1/1\u001b[0m \u001b[32m━━━━━━━━━━━━━━━━━━━━\u001b[0m\u001b[37m\u001b[0m \u001b[1m0s\u001b[0m 56ms/step\n",
      "Review: This movie was fantastic! The acting was great and the plot was thrilling.\n",
      "Sentiment: Positive\n",
      "Prediction Score: 0.8311551213264465\n"
     ]
    }
   ],
   "source": [
    "# Step 4: User Input and Prediction\n",
    "# Example review for prediction\n",
    "example_review = \"This movie was fantastic! The acting was great and the plot was thrilling.\"\n",
    "\n",
    "sentiment,score=predict_sentiment(example_review)\n",
    "\n",
    "print(f'Review: {example_review}')\n",
    "print(f'Sentiment: {sentiment}')\n",
    "print(f'Prediction Score: {score}')"
   ]
  },
  {
   "cell_type": "code",
   "execution_count": null,
   "metadata": {},
   "outputs": [],
   "source": []
  }
 ],
 "metadata": {
  "kernelspec": {
   "display_name": "venv",
   "language": "python",
   "name": "python3"
  },
  "language_info": {
   "codemirror_mode": {
    "name": "ipython",
    "version": 3
   },
   "file_extension": ".py",
   "mimetype": "text/x-python",
   "name": "python",
   "nbconvert_exporter": "python",
   "pygments_lexer": "ipython3",
   "version": "3.9.20"
  }
 },
 "nbformat": 4,
 "nbformat_minor": 2
}
